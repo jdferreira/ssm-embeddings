{
 "cells": [
  {
   "cell_type": "code",
   "execution_count": 1,
   "metadata": {},
   "outputs": [],
   "source": [
    "import sys\n",
    "\n",
    "sys.path.insert(0, '..')\n",
    "\n",
    "from compare import BMA, Faith, ICDepth, World, get_all_comparers, SimilarityComputer\n",
    "from utils import read_ontology_from_sqlite\n",
    "from dataset import read_entities"
   ]
  },
  {
   "cell_type": "code",
   "execution_count": 3,
   "metadata": {},
   "outputs": [],
   "source": [
    "ontology = read_ontology_from_sqlite('../data/go.sqlite')\n",
    "world = World(ontology)\n",
    "\n",
    "ic_depth = ICDepth('min')\n",
    "ic_depth.set_world(world)\n",
    "min_depths = ic_depth.depths\n",
    "\n",
    "ic_depth = ICDepth('max')\n",
    "ic_depth.set_world(world)\n",
    "max_depths = ic_depth.depths"
   ]
  },
  {
   "cell_type": "code",
   "execution_count": 10,
   "metadata": {},
   "outputs": [
    {
     "data": {
      "text/plain": [
       "[(obo.GO_0019953, 3, 4),\n",
       " (obo.GO_0000075, 3, 7),\n",
       " (obo.GO_0006949, 3, 4),\n",
       " (obo.GO_0007165, 3, 5),\n",
       " (obo.GO_0016458, 3, 8),\n",
       " (obo.GO_0007034, 3, 5),\n",
       " (obo.GO_0055085, 3, 5),\n",
       " (obo.GO_0019725, 3, 5),\n",
       " (obo.GO_0016192, 3, 5),\n",
       " (obo.GO_0010496, 3, 5)]"
      ]
     },
     "execution_count": 10,
     "metadata": {},
     "output_type": "execute_result"
    }
   ],
   "source": [
    "concepts = list(min_depths)\n",
    "\n",
    "diverse = [c for c in concepts if min_depths[c] != max_depths[c]]\n",
    "\n",
    "[(i, min_depths[i], max_depths[i]) for i in diverse[:10]]"
   ]
  },
  {
   "cell_type": "code",
   "execution_count": 11,
   "metadata": {},
   "outputs": [
    {
     "data": {
      "text/plain": [
       "(13, 17)"
      ]
     },
     "execution_count": 11,
     "metadata": {},
     "output_type": "execute_result"
    }
   ],
   "source": [
    "max(min_depths.values()), max(max_depths.values())"
   ]
  }
 ],
 "metadata": {
  "interpreter": {
   "hash": "3c9b11c4c4b8aa249317648d7d8bc5d03273baadf4580ee4407cca3f436c8eaa"
  },
  "kernelspec": {
   "display_name": "Python 3.8.6 64-bit ('3.8.6': pyenv)",
   "name": "python3"
  },
  "language_info": {
   "codemirror_mode": {
    "name": "ipython",
    "version": 3
   },
   "file_extension": ".py",
   "mimetype": "text/x-python",
   "name": "python",
   "nbconvert_exporter": "python",
   "pygments_lexer": "ipython3",
   "version": "3.8.6"
  },
  "orig_nbformat": 4
 },
 "nbformat": 4,
 "nbformat_minor": 2
}